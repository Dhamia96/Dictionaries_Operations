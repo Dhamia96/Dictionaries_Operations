{
 "cells": [
  {
   "cell_type": "markdown",
   "metadata": {},
   "source": [
    "1. Change the value 10 in x to 15. Once you're done, x should now be [ [5,2,3], [15,8,9] ].\n",
    "2. Change the last_name of the first student from 'Jordan' to 'Bryant'\n",
    "3. In the sports_directory, change 'Messi' to 'Andres'\n",
    "4. Change the value 20 in z to 30"
   ]
  },
  {
   "cell_type": "code",
   "execution_count": 20,
   "metadata": {},
   "outputs": [
    {
     "name": "stdout",
     "output_type": "stream",
     "text": [
      "The Updated x= [[5, 2, 3], [15, 8, 9]]\n",
      "\n",
      "The Updated students dict= [{'first_name': 'Michael', 'last_name': 'Bryant'}, {'first_name': 'John', 'last_name': 'Rosales'}]\n",
      "\n",
      "The Updated sports_directory= {'basketball': ['Kobe', 'Jordan', 'James', 'Curry'], 'soccer': ['Andres', 'Ronaldo', 'Rooney']}\n",
      "\n",
      "The Updated z= [{'x': 10, 'y': 30}]\n"
     ]
    }
   ],
   "source": [
    "x = [ [5,2,3], [10,8,9] ] \n",
    "#1. Change the value 10 in x to 15. Once you're done, x should now be [ [5,2,3], [15,8,9] ].\n",
    "x[1][0]=15\n",
    "print(\"The Updated x=\", x)\n",
    "\n",
    "students = [\n",
    "     {'first_name':  'Michael', 'last_name' : 'Jordan'},\n",
    "     {'first_name' : 'John', 'last_name' : 'Rosales'}\n",
    "]\n",
    "#2. Change the last_name of the first student from 'Jordan' to 'Bryant'\n",
    "students[0]['last_name']=\"Bryant\"\n",
    "print(\"\\nThe Updated students dict=\",students)\n",
    "\n",
    "sports_directory = {\n",
    "    'basketball' : ['Kobe', 'Jordan', 'James', 'Curry'],\n",
    "    'soccer' : ['Messi', 'Ronaldo', 'Rooney']\n",
    "}\n",
    "#3. In the sports_directory, change 'Messi' to 'Andres'\n",
    "sports_directory['soccer'][0]=\"Andres\"\n",
    "print(\"\\nThe Updated sports_directory=\",sports_directory)\n",
    "\n",
    "z = [ {'x': 10, 'y': 20} ]\n",
    "#4. Change the value 20 in z to 30\n",
    "z[0]['y']=30\n",
    "print(\"\\nThe Updated z=\",z)\n"
   ]
  },
  {
   "cell_type": "markdown",
   "metadata": {},
   "source": [
    "2. Iterate Through a List of Dictionaries.\n",
    "Create a function iterateDictionary(some_list) that, given a list of dictionaries, the function loops through each dictionary in the list and prints each key and the associated value. "
   ]
  },
  {
   "cell_type": "code",
   "execution_count": 254,
   "metadata": {},
   "outputs": [
    {
     "name": "stdout",
     "output_type": "stream",
     "text": [
      "first_name - Michael, last_name - Jordan\n",
      "first_name - John, last_name - Rosales\n",
      "first_name - Mark, last_name - Guillen\n",
      "first_name - KB, last_name - Tonel\n"
     ]
    }
   ],
   "source": [
    "def iterateDictionary(students):\n",
    "    x=0\n",
    "    first_name_values=[]\n",
    "    last_name_values=[]\n",
    "    while x < len(students):\n",
    "        first_name_values.append(students[x][\"first_name\"])\n",
    "        last_name_values.append(students[x][\"last_name\"])\n",
    "        x+=1\n",
    "\n",
    "    y=0\n",
    "    while y < len(first_name_values): #you can use also len(last_name_values)\n",
    "        print(\"first_name - \"+first_name_values[y]+\", \"+ \"last_name - \"+last_name_values[y])\n",
    "        y+=1\n",
    "\n",
    "iterateDictionary( [\n",
    "         {'first_name':  'Michael', 'last_name' : 'Jordan'},\n",
    "         {'first_name' : 'John', 'last_name' : 'Rosales'},\n",
    "         {'first_name' : 'Mark', 'last_name' : 'Guillen'},\n",
    "         {'first_name' : 'KB', 'last_name' : 'Tonel'}\n",
    "    ])\n"
   ]
  },
  {
   "cell_type": "markdown",
   "metadata": {},
   "source": [
    "3. Get Values From a List of Dictionaries\n",
    "Create a function iterateDictionary2(key_name, some_list) that, given a list of dictionaries and a key name, the function prints the value stored in that key for each dictionary. For example, iterateDictionary2('first_name', students) should output:"
   ]
  },
  {
   "cell_type": "code",
   "execution_count": 260,
   "metadata": {},
   "outputs": [
    {
     "name": "stdout",
     "output_type": "stream",
     "text": [
      "Michael\n",
      "John\n",
      "Mark\n",
      "KB\n"
     ]
    }
   ],
   "source": [
    "def iterateDictionary2(first_name, students):\n",
    "    i=0\n",
    "    while i < len(students):\n",
    "        print(students[i][first_name])\n",
    "        i+=1\n",
    "        \n",
    "iterateDictionary2('first_name',[\n",
    "         {'first_name':  'Michael', 'last_name' : 'Jordan'},\n",
    "         {'first_name' : 'John', 'last_name' : 'Rosales'},\n",
    "         {'first_name' : 'Mark', 'last_name' : 'Guillen'},\n",
    "         {'first_name' : 'KB', 'last_name' : 'Tonel'}\n",
    "    ])"
   ]
  },
  {
   "cell_type": "markdown",
   "metadata": {},
   "source": [
    "4. Iterate Through a Dictionary with List Values\n",
    "Create a function printInfo(some_dict) that given a dictionary whose values are all lists, prints the name of each key along with the size of its list, and then prints the associated values within each key's list."
   ]
  },
  {
   "cell_type": "code",
   "execution_count": 386,
   "metadata": {},
   "outputs": [
    {
     "name": "stdout",
     "output_type": "stream",
     "text": [
      "\n",
      " 7 locations\n",
      "San Jose\n",
      "Seattle\n",
      "Dallas\n",
      "Chicago\n",
      "Tulsa\n",
      "DC\n",
      "Burbank\n",
      "\n",
      " 8 instructors\n",
      "Michael\n",
      "Amy\n",
      "Eduardo\n",
      "Josh\n",
      "Graham\n",
      "Patrick\n",
      "Minh\n",
      "Devon\n"
     ]
    }
   ],
   "source": [
    "dojo = {\n",
    "   'locations': ['San Jose', 'Seattle', 'Dallas', 'Chicago', 'Tulsa', 'DC', 'Burbank'],\n",
    "   'instructors': ['Michael', 'Amy', 'Eduardo', 'Josh', 'Graham', 'Patrick', 'Minh', 'Devon'],\n",
    "}\n",
    "keyslist=[]\n",
    "count_keys=0\n",
    "while count_keys < len(list(dojo.keys())):\n",
    "    keyslist.append(list(dojo.keys())[count_keys])\n",
    "    count_keys+=1\n",
    "x=0\n",
    "y=0\n",
    "while x < count_keys:\n",
    "    count_values=len(dojo[keyslist[x]])\n",
    "    print(\"\\n\",count_values, keyslist[x])\n",
    "    while y < count_values:\n",
    "        print(dojo[keyslist[x]][y])\n",
    "        y+=1\n",
    "    if(y == count_values):\n",
    "        y=0  \n",
    "    x+=1\n"
   ]
  }
 ],
 "metadata": {
  "kernelspec": {
   "display_name": "Python 3",
   "language": "python",
   "name": "python3"
  },
  "language_info": {
   "codemirror_mode": {
    "name": "ipython",
    "version": 3
   },
   "file_extension": ".py",
   "mimetype": "text/x-python",
   "name": "python",
   "nbconvert_exporter": "python",
   "pygments_lexer": "ipython3",
   "version": "3.8.5"
  }
 },
 "nbformat": 4,
 "nbformat_minor": 4
}
